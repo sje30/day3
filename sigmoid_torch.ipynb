{
  "cells": [
    {
      "cell_type": "raw",
      "metadata": {},
      "source": [
        "---\n",
        "title: \"pytorch: sigmoid example\"\n",
        "format:\n",
        "  typst:\n",
        "    toc: true\n",
        "  html:\n",
        "    code-folded: true\n",
        "---"
      ]
    },
    {
      "cell_type": "markdown",
      "metadata": {},
      "source": [
        "## Copyright notice\n",
        "\n",
        "*All material not in the public domain is subject to copyright\n",
        "(University of Cambridge and/or its licensors) and is licensed for\n",
        "personal / professional education use only.*\n",
        "\n",
        "\n",
        "# Pytorch implementation of sigmoid.\n"
      ]
    },
    {
      "cell_type": "code",
      "metadata": {},
      "source": [
        "## https://pytorch.org/tutorials/beginner/blitz/autograd_tutorial.html\n",
        "import torch\n",
        "import numpy as np\n",
        "import matplotlib.pyplot as plt\n",
        "\n",
        "v = np.linspace(-3, +3, 50)\n",
        "\n",
        "\n",
        "x = torch.tensor(v, requires_grad=True)\n",
        "\n",
        "## note, have to use torch.exp(), not np.exp()\n",
        "y = 1.0 / (1.0 + torch.exp(-x))\n",
        "\n",
        "## https://pytorch.org/docs/stable/generated/torch.nn.functional.sigmoid.html#torch.nn.functional.sigmoid\n",
        "z = torch.nn.functional.sigmoid(x)\n",
        "\n",
        "y == z\n",
        "np.array_equal(y.detach().numpy(), z.detach().numpy())\n",
        "torch.equal(y, z)  ## check two tensors are identical.\n",
        "\n",
        "\n",
        "plt.ion()\n",
        "plt.plot(x.detach().numpy(), y.detach().numpy())\n",
        "plt.xlabel('x')\n",
        "plt.ylabel('y(x)')\n",
        "plt.title('sigmoid function')\n",
        "plt.show()\n",
        "\n",
        "external_grad = torch.tensor(np.ones(50))\n",
        "y.backward(gradient=external_grad) # do backward pass\n",
        "\n",
        "plt.plot(v, x.grad.detach().numpy()) # ha, nice.\n",
        "plt.xlabel('x')\n",
        "plt.ylabel('dy/dx')\n",
        "plt.title('derivative of sigmoid function')\n",
        "\n",
        "input = torch.tensor([-1.5, 0, 2.0])\n",
        "values = torch.tensor([0.5])\n",
        "torch.heaviside(input, values)\n",
        "values = torch.tensor([1.2, -2.0, 3.5])\n",
        "torch.heaviside(input, values)\n"
      ],
      "execution_count": null,
      "outputs": []
    }
  ],
  "metadata": {
    "kernelspec": {
      "display_name": "Python 3",
      "language": "python",
      "name": "python3"
    }
  },
  "nbformat": 4,
  "nbformat_minor": 4
}