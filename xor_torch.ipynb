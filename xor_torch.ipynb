{
 "cells": [
  {
   "cell_type": "raw",
   "metadata": {},
   "source": [
    "---\n",
    "title: \"pytorch: sigmoid example\"\n",
    "format:\n",
    "  typst:\n",
    "    toc: true\n",
    "  html:\n",
    "    code-folded: true\n",
    "---"
   ]
  },
  {
   "cell_type": "markdown",
   "metadata": {},
   "source": [
    "## Copyright notice\n",
    "\n",
    "*All material not in the public domain is subject to copyright\n",
    "(University of Cambridge and/or its licensors) and is licensed for\n",
    "personal / professional education use only.*\n",
    "\n",
    "\n",
    "# Pytorch implementation of XOR problem\n",
    "\n",
    "\n",
    "\n",
    "## Setup"
   ]
  },
  {
   "cell_type": "code",
   "execution_count": 1,
   "metadata": {},
   "outputs": [],
   "source": [
    "import torch\n",
    "import torch.nn as nn\n",
    "import torch.nn.functional as F\n",
    "import numpy as np\n",
    "import matplotlib.pyplot as plt"
   ]
  },
  {
   "cell_type": "markdown",
   "metadata": {},
   "source": [
    "## Data"
   ]
  },
  {
   "cell_type": "code",
   "execution_count": 2,
   "metadata": {},
   "outputs": [],
   "source": [
    "## Training data\n",
    "\n",
    "X = torch.Tensor([[0, 0],\n",
    "                  [0, 1],\n",
    "                  [1, 0],\n",
    "                  [1, 1]])\n",
    "\n",
    "\n",
    "T = torch.Tensor([[0],\n",
    "                  [1],\n",
    "                  [1],\n",
    "                  [0]])"
   ]
  },
  {
   "cell_type": "markdown",
   "metadata": {},
   "source": [
    "## Network architecture"
   ]
  },
  {
   "cell_type": "code",
   "execution_count": 3,
   "metadata": {},
   "outputs": [],
   "source": [
    "class Network(nn.Module):\n",
    "    def __init__(self, nhidden=2):\n",
    "        super(Network, self).__init__()\n",
    "        self.L1 = nn.Linear(2, nhidden)\n",
    "        self.L2 = nn.Linear(nhidden, 1)\n",
    "\n",
    "\n",
    "    def forward(self, x):\n",
    "        z1 = self.L1(x)\n",
    "        h  = F.sigmoid(z1)\n",
    "        z2 = self.L2(h)\n",
    "        ##return z2  ## can work without second sigmoid.\n",
    "        return F.sigmoid(z2)\n",
    "\n",
    "\n",
    "\n",
    "network = Network()"
   ]
  },
  {
   "cell_type": "markdown",
   "metadata": {},
   "source": [
    "## Optimizer"
   ]
  },
  {
   "cell_type": "code",
   "execution_count": 7,
   "metadata": {},
   "outputs": [],
   "source": [
    "loss_function = nn.MSELoss()\n",
    "\n",
    "\n",
    "nepoch = 10000\n",
    "epsilon = 0.5\n",
    "optim = torch.optim.SGD(network.parameters(),\n",
    "                        lr=epsilon)\n",
    "errors = np.zeros(nepoch)"
   ]
  },
  {
   "cell_type": "markdown",
   "metadata": {},
   "source": [
    "## Training"
   ]
  },
  {
   "cell_type": "code",
   "execution_count": 8,
   "metadata": {},
   "outputs": [
    {
     "data": {
      "text/plain": [
       "Text(0, 0.5, 'error')"
      ]
     },
     "execution_count": 8,
     "metadata": {},
     "output_type": "execute_result"
    },
    {
     "data": {
      "image/png": "[encoded data removed]",
      "text/plain": [
       "<Figure size 640x480 with 1 Axes>"
      ]
     },
     "metadata": {},
     "output_type": "display_data"
    }
   ],
   "source": [
    "for epoch in range(nepoch):\n",
    "\n",
    "    Y = network(X)\n",
    "\n",
    "    loss = loss_function(Y, T)\n",
    "\n",
    "    ## calculate gradients for all weights in network\n",
    "    loss.backward()\n",
    "\n",
    "    optim.step()                # update weights\n",
    "    optim.zero_grad()           # critical!\n",
    "\n",
    "    errors[epoch] = loss.detach().numpy()\n",
    "\n",
    "plt.plot(errors)\n",
    "plt.xlabel(\"epoch\")\n",
    "plt.ylabel(\"error\")"
   ]
  },
  {
   "cell_type": "markdown",
   "metadata": {},
   "source": [
    "## What did it learn?"
   ]
  },
  {
   "cell_type": "code",
   "execution_count": 9,
   "metadata": {},
   "outputs": [
    {
     "data": {
      "text/plain": [
       "[Parameter containing:\n",
       " tensor([[ 6.9114,  6.9267],\n",
       "         [-4.8156, -4.8182]], requires_grad=True),\n",
       " Parameter containing:\n",
       " tensor([-3.0754,  7.2070], requires_grad=True),\n",
       " Parameter containing:\n",
       " tensor([[7.6506, 7.8901]], requires_grad=True),\n",
       " Parameter containing:\n",
       " tensor([-11.4083], requires_grad=True)]"
      ]
     },
     "execution_count": 9,
     "metadata": {},
     "output_type": "execute_result"
    }
   ],
   "source": [
    "## examine the weights and biases\n",
    "list(network.parameters())"
   ]
  },
  {
   "cell_type": "markdown",
   "metadata": {},
   "source": [
    "## About this document\n",
    "\n",
    "Source file: xor_torch.qmd"
   ]
  }
 ],
 "metadata": {
  "kernelspec": {
   "display_name": "Python 3 (ipykernel)",
   "language": "python",
   "name": "python3"
  },
  "language_info": {
   "codemirror_mode": {
    "name": "ipython",
    "version": 3
   },
   "file_extension": ".py",
   "mimetype": "text/x-python",
   "name": "python",
   "nbconvert_exporter": "python",
   "pygments_lexer": "ipython3",
   "version": "3.11.3"
  }
 },
 "nbformat": 4,
 "nbformat_minor": 4
}
